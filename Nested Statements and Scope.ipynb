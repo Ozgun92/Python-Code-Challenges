{
 "cells": [
  {
   "cell_type": "code",
   "execution_count": 1,
   "metadata": {},
   "outputs": [
    {
     "name": "stdout",
     "output_type": "stream",
     "text": [
      "Hello Sammy\n"
     ]
    }
   ],
   "source": [
    "name = 'THIS IS A GLOBAL STRING'\n",
    "\n",
    "def greet():\n",
    "    \n",
    "    name = 'Sammy'\n",
    "    \n",
    "    def hello():\n",
    "        print('Hello ' + name)\n",
    "        \n",
    "    hello()\n",
    "\n",
    "greet()"
   ]
  },
  {
   "cell_type": "code",
   "execution_count": 2,
   "metadata": {},
   "outputs": [
    {
     "name": "stdout",
     "output_type": "stream",
     "text": [
      "Hello THIS IS A GLOBAL STRING\n"
     ]
    }
   ],
   "source": [
    "name = 'THIS IS A GLOBAL STRING'\n",
    "\n",
    "def greet():\n",
    "    \n",
    "    #name = 'Sammy'\n",
    "    \n",
    "    def hello():\n",
    "        print('Hello ' + name)\n",
    "        \n",
    "    hello()\n",
    "\n",
    "greet()\n",
    "\n",
    "# Now we commented out the name variable = Sammy. What will the output be and why?\n",
    "\n",
    "# According to the LEGB rule, since there is neither a local variable that is called name, nor an enclosing one\n",
    "# (since we have commented it out), we have to pick a global variable, which is defined as having no indentation\n",
    "# luckily for us, there is a global variable called name which is being used by the hello() function."
   ]
  },
  {
   "cell_type": "code",
   "execution_count": 3,
   "metadata": {},
   "outputs": [
    {
     "name": "stdout",
     "output_type": "stream",
     "text": [
      "Hello I'm a local.\n"
     ]
    }
   ],
   "source": [
    "# Global\n",
    "name = 'THIS IS A GLOBAL STRING'\n",
    "\n",
    "def greet():\n",
    "    \n",
    "    # Enclosing\n",
    "    name = 'Sammy'\n",
    "    \n",
    "    def hello():\n",
    "        # Local\n",
    "        name = \"I'm a local.\"\n",
    "        print('Hello ' + name)\n",
    "        \n",
    "    hello()\n",
    "\n",
    "greet()\n",
    "\n",
    "# Now, since we have a local, an enclosing and a global variable called name, the local one will be used according\n",
    "# to the LEGB rule."
   ]
  },
  {
   "cell_type": "code",
   "execution_count": 11,
   "metadata": {},
   "outputs": [],
   "source": [
    "x = 50 \n",
    "\n",
    "def func(x):\n",
    "    print(f'X is {x}')\n",
    "    \n",
    "    # Local Reassignment\n",
    "    x = 200\n",
    "    print(f'I just locally changed X to {x}')"
   ]
  },
  {
   "cell_type": "code",
   "execution_count": 6,
   "metadata": {},
   "outputs": [
    {
     "name": "stdout",
     "output_type": "stream",
     "text": [
      "X is 50\n",
      "I just locally changed X to 200\n"
     ]
    },
    {
     "data": {
      "text/plain": [
       "50"
      ]
     },
     "execution_count": 6,
     "metadata": {},
     "output_type": "execute_result"
    }
   ],
   "source": [
    "func(x)\n",
    "x "
   ]
  },
  {
   "cell_type": "code",
   "execution_count": null,
   "metadata": {},
   "outputs": [],
   "source": [
    "# Notice how x stays 50 and doesn't change to 200. That is because\n",
    "# the scope of the function is contained within the function.\n",
    "# What if we wanted the global variable to change to 200, once we\n",
    "# locally reassign it?"
   ]
  },
  {
   "cell_type": "code",
   "execution_count": 15,
   "metadata": {},
   "outputs": [],
   "source": [
    "x = 50 \n",
    "\n",
    "def func():\n",
    "    global x\n",
    "    print(f'X is {x}')\n",
    "    \n",
    "    # Local Reassignment on a global variable\n",
    "    x = 200\n",
    "    print(f'I just locally changed global X to {x}')\n",
    "    \n",
    "# In that case, we type the global keyword and omit the parameter\n",
    "# in the function declaration."
   ]
  },
  {
   "cell_type": "code",
   "execution_count": 18,
   "metadata": {},
   "outputs": [
    {
     "name": "stdout",
     "output_type": "stream",
     "text": [
      "X is 200\n",
      "I just locally changed global X to 200\n"
     ]
    },
    {
     "data": {
      "text/plain": [
       "200"
      ]
     },
     "execution_count": 18,
     "metadata": {},
     "output_type": "execute_result"
    }
   ],
   "source": [
    "func()\n",
    "x"
   ]
  },
  {
   "cell_type": "code",
   "execution_count": null,
   "metadata": {},
   "outputs": [],
   "source": [
    "# and like that, the global value of x is changed to 200"
   ]
  },
  {
   "cell_type": "code",
   "execution_count": 23,
   "metadata": {},
   "outputs": [],
   "source": [
    "# Alternative Approach\n",
    "\n",
    "x = 50 \n",
    "\n",
    "def func(x):\n",
    "   \n",
    "    print(f'X is {x}')\n",
    "    \n",
    "    # Local Reassignment on a global variable\n",
    "    x = 200\n",
    "    print(f'I just locally changed global X to {x}')\n",
    "    return x"
   ]
  },
  {
   "cell_type": "code",
   "execution_count": 24,
   "metadata": {},
   "outputs": [
    {
     "name": "stdout",
     "output_type": "stream",
     "text": [
      "X is 50\n",
      "I just locally changed global X to 200\n"
     ]
    }
   ],
   "source": [
    "x = func(x)\n",
    "\n",
    "# by assignment, we can change the global variable"
   ]
  },
  {
   "cell_type": "code",
   "execution_count": 25,
   "metadata": {},
   "outputs": [
    {
     "data": {
      "text/plain": [
       "200"
      ]
     },
     "execution_count": 25,
     "metadata": {},
     "output_type": "execute_result"
    }
   ],
   "source": [
    "x\n",
    "\n",
    "# x is now the desired value"
   ]
  },
  {
   "cell_type": "code",
   "execution_count": null,
   "metadata": {},
   "outputs": [],
   "source": []
  }
 ],
 "metadata": {
  "kernelspec": {
   "display_name": "Python 3",
   "language": "python",
   "name": "python3"
  },
  "language_info": {
   "codemirror_mode": {
    "name": "ipython",
    "version": 3
   },
   "file_extension": ".py",
   "mimetype": "text/x-python",
   "name": "python",
   "nbconvert_exporter": "python",
   "pygments_lexer": "ipython3",
   "version": "3.8.3"
  }
 },
 "nbformat": 4,
 "nbformat_minor": 4
}
